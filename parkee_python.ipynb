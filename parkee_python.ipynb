{
 "cells": [
  {
   "cell_type": "code",
   "execution_count": 156,
   "id": "d8710f20-1f67-4ee9-9646-1f583cc7ca51",
   "metadata": {},
   "outputs": [
    {
     "name": "stdout",
     "output_type": "stream",
     "text": [
      "Preview of the created CSV file:\n",
      "   transaction_id branch        date  product_id  quantity  price customer_id\n",
      "0               1      A  2023-01-01         101         2   50.0        C001\n",
      "1               2      A  2023-01-02         102         1   20.0        C002\n",
      "2               3      A  2023-01-03         103         3   15.0        C003\n",
      "3               4      A  2023-01-04         101         2   50.0        C004\n",
      "4               5      A        None         104         1   30.0        C005\n",
      "5               6      A  2023-01-06         105         2   25.0        None\n"
     ]
    }
   ],
   "source": [
    "import pandas as pd\n",
    "\n",
    "branch_a_data = [\n",
    "    {'transaction_id': 1, 'branch': 'A', 'date': '2023-01-01', 'product_id': 101, 'quantity': 2, 'price': 50.0, 'customer_id': 'C001'},\n",
    "    {'transaction_id': 2, 'branch': 'A', 'date': '2023-01-02', 'product_id': 102, 'quantity': 1, 'price': 20.0, 'customer_id': 'C002'},\n",
    "    {'transaction_id': 3, 'branch': 'A', 'date': '2023-01-03', 'product_id': 103, 'quantity': 3, 'price': 15.0, 'customer_id': 'C003'},\n",
    "    {'transaction_id': 4, 'branch': 'A', 'date': '2023-01-04', 'product_id': 101, 'quantity': 2, 'price': 50.0, 'customer_id': 'C004'},\n",
    "    {'transaction_id': 5, 'branch': 'A', 'date': None, 'product_id': 104, 'quantity': 1, 'price': 30.0, 'customer_id': 'C005'},\n",
    "    {'transaction_id': 6, 'branch': 'A', 'date': '2023-01-06', 'product_id': 105, 'quantity': 2, 'price': 25.0, 'customer_id': None}\n",
    "]\n",
    "\n",
    "\n",
    "df = pd.DataFrame(branch_a_data)\n",
    "\n",
    "\n",
    "df.to_csv('branch_a.csv', index=False)\n",
    "\n",
    "print(\"Preview of the created CSV file:\")\n",
    "print(df)"
   ]
  },
  {
   "cell_type": "code",
   "execution_count": 158,
   "id": "8aae3523-e8cb-481f-8c89-28d63fd45162",
   "metadata": {},
   "outputs": [
    {
     "name": "stdout",
     "output_type": "stream",
     "text": [
      "Preview of the created CSV file:\n",
      "   transaction_id branch        date  product_id  quantity  price customer_id\n",
      "0               7      B  2023-01-01         101         1   50.0        C006\n",
      "1               8      B  2023-01-02         106         2   40.0        C007\n",
      "2               9      B  2023-01-03         107         3   25.0        C008\n",
      "3              10      B  2023-01-04         108         1   30.0        C009\n",
      "4              11      B  2023-01-05         109         2   35.0        C010\n",
      "5              12      B  2023-01-06         107         3   25.0        C011\n"
     ]
    }
   ],
   "source": [
    "branch_b_data = [\n",
    "    {'transaction_id': 7, 'branch': 'B', 'date': '2023-01-01', 'product_id': 101, 'quantity': 1, 'price': 50.0, 'customer_id': 'C006'},\n",
    "    {'transaction_id': 8, 'branch': 'B', 'date': '2023-01-02', 'product_id': 106, 'quantity': 2, 'price': 40.0, 'customer_id': 'C007'},\n",
    "    {'transaction_id': 9, 'branch': 'B', 'date': '2023-01-03', 'product_id': 107, 'quantity': 3, 'price': 25.0, 'customer_id': 'C008'},\n",
    "    {'transaction_id': 10, 'branch': 'B', 'date': '2023-01-04', 'product_id': 108, 'quantity': 1, 'price': 30.0, 'customer_id': 'C009'},\n",
    "    {'transaction_id': 11, 'branch': 'B', 'date': '2023-01-05', 'product_id': 109, 'quantity': 2, 'price': 35.0, 'customer_id': 'C010'},\n",
    "    {'transaction_id': 12, 'branch': 'B', 'date': '2023-01-06', 'product_id': 107, 'quantity': 3, 'price': 25.0, 'customer_id': 'C011'}\n",
    "]\n",
    "\n",
    "\n",
    "df = pd.DataFrame(branch_b_data)\n",
    "\n",
    "\n",
    "df.to_csv('branch_b.csv', index=False)\n",
    "print(\"Preview of the created CSV file:\")\n",
    "print(df)"
   ]
  },
  {
   "cell_type": "code",
   "execution_count": 160,
   "id": "280857d4-c29b-44ac-8965-f0d9bcbd987d",
   "metadata": {},
   "outputs": [
    {
     "name": "stdout",
     "output_type": "stream",
     "text": [
      "Preview of the created CSV file:\n",
      "   transaction_id branch        date  product_id  quantity  price customer_id\n",
      "0              13      C  2023-01-01         110         1   60.0        C012\n",
      "1              14      C  2023-01-02         111         2   20.0        C013\n",
      "2              14      C  2023-01-03         112         1   70.0        C014\n",
      "3              15      C  2023-01-04         113         2   50.0        C015\n",
      "4              16      C  2023-01-05         114         3   30.0        C016\n",
      "5              17      C  2023-01-06         115         2   80.0        C017\n"
     ]
    }
   ],
   "source": [
    "branch_c_data = [\n",
    "    {'transaction_id': 13, 'branch': 'C', 'date': '2023-01-01', 'product_id': 110, 'quantity': 1, 'price': 60.0, 'customer_id': 'C012'},\n",
    "    {'transaction_id': 14, 'branch': 'C', 'date': '2023-01-02', 'product_id': 111, 'quantity': 2, 'price': 20.0, 'customer_id': 'C013'},\n",
    "    {'transaction_id': 14, 'branch': 'C', 'date': '2023-01-03', 'product_id': 112, 'quantity': 1, 'price': 70.0, 'customer_id': 'C014'},\n",
    "    {'transaction_id': 15, 'branch': 'C', 'date': '2023-01-04', 'product_id': 113, 'quantity': 2, 'price': 50.0, 'customer_id': 'C015'},\n",
    "    {'transaction_id': 16, 'branch': 'C', 'date': '2023-01-05', 'product_id': 114, 'quantity': 3, 'price': 30.0, 'customer_id': 'C016'},\n",
    "    {'transaction_id': 17, 'branch': 'C', 'date': '2023-01-06', 'product_id': 115, 'quantity': 2, 'price': 80.0, 'customer_id': 'C017'}\n",
    "]\n",
    "\n",
    "\n",
    "df = pd.DataFrame(branch_c_data)\n",
    "\n",
    "\n",
    "df.to_csv('branch_c.csv', index=False)\n",
    "print(\"Preview of the created CSV file:\")\n",
    "print(df)"
   ]
  },
  {
   "cell_type": "code",
   "execution_count": 162,
   "id": "1844196c-cfcb-4352-bb4c-b237a46520de",
   "metadata": {},
   "outputs": [
    {
     "name": "stdout",
     "output_type": "stream",
     "text": [
      "    transaction_id branch        date  product_id  quantity  price customer_id\n",
      "0                1      A  2023-01-01         101         2   50.0        C001\n",
      "1                2      A  2023-01-02         102         1   20.0        C002\n",
      "2                3      A  2023-01-03         103         3   15.0        C003\n",
      "3                4      A  2023-01-04         101         2   50.0        C004\n",
      "4                5      A         NaN         104         1   30.0        C005\n",
      "5                6      A  2023-01-06         105         2   25.0         NaN\n",
      "6                7      B  2023-01-01         101         1   50.0        C006\n",
      "7                8      B  2023-01-02         106         2   40.0        C007\n",
      "8                9      B  2023-01-03         107         3   25.0        C008\n",
      "9               10      B  2023-01-04         108         1   30.0        C009\n",
      "10              11      B  2023-01-05         109         2   35.0        C010\n",
      "11              12      B  2023-01-06         107         3   25.0        C011\n",
      "12              13      C  2023-01-01         110         1   60.0        C012\n",
      "13              14      C  2023-01-02         111         2   20.0        C013\n",
      "14              14      C  2023-01-03         112         1   70.0        C014\n",
      "15              15      C  2023-01-04         113         2   50.0        C015\n",
      "16              16      C  2023-01-05         114         3   30.0        C016\n",
      "17              17      C  2023-01-06         115         2   80.0        C017\n"
     ]
    }
   ],
   "source": [
    "## merge all csv file into one\n",
    "df = pd.concat( \n",
    "    map(pd.read_csv, ['branch_a.csv', 'branch_b.csv','branch_c.csv']), ignore_index=True) \n",
    "print(df) "
   ]
  },
  {
   "cell_type": "code",
   "execution_count": 164,
   "id": "417705d9-9a5f-46f3-ba93-8f8411ed19a6",
   "metadata": {},
   "outputs": [
    {
     "name": "stdout",
     "output_type": "stream",
     "text": [
      "    transaction_id branch        date  product_id  quantity  price customer_id\n",
      "0                1      A  2023-01-01         101         2   50.0        C001\n",
      "1                2      A  2023-01-02         102         1   20.0        C002\n",
      "2                3      A  2023-01-03         103         3   15.0        C003\n",
      "3                4      A  2023-01-04         101         2   50.0        C004\n",
      "6                7      B  2023-01-01         101         1   50.0        C006\n",
      "7                8      B  2023-01-02         106         2   40.0        C007\n",
      "8                9      B  2023-01-03         107         3   25.0        C008\n",
      "9               10      B  2023-01-04         108         1   30.0        C009\n",
      "10              11      B  2023-01-05         109         2   35.0        C010\n",
      "11              12      B  2023-01-06         107         3   25.0        C011\n",
      "12              13      C  2023-01-01         110         1   60.0        C012\n",
      "13              14      C  2023-01-02         111         2   20.0        C013\n",
      "14              14      C  2023-01-03         112         1   70.0        C014\n",
      "15              15      C  2023-01-04         113         2   50.0        C015\n",
      "16              16      C  2023-01-05         114         3   30.0        C016\n",
      "17              17      C  2023-01-06         115         2   80.0        C017\n"
     ]
    }
   ],
   "source": [
    "## Delete all the NaN Row in the dataset\n",
    "df = pd.concat( \n",
    "    map(pd.read_csv, ['branch_a.csv', 'branch_b.csv','branch_c.csv']), ignore_index=True) \n",
    "df_specific_cleaned = df.dropna(subset=['product_id', 'customer_id','date'])\n",
    "print(df_specific_cleaned)"
   ]
  },
  {
   "cell_type": "code",
   "execution_count": 166,
   "id": "866c6252-5604-4cd7-91e3-3bf25b9b7482",
   "metadata": {},
   "outputs": [
    {
     "name": "stdout",
     "output_type": "stream",
     "text": [
      "    transaction_id branch       date  product_id  quantity  price customer_id\n",
      "0                1      A 2023-01-01         101         2   50.0        C001\n",
      "1                2      A 2023-01-02         102         1   20.0        C002\n",
      "2                3      A 2023-01-03         103         3   15.0        C003\n",
      "3                4      A 2023-01-04         101         2   50.0        C004\n",
      "6                7      B 2023-01-01         101         1   50.0        C006\n",
      "7                8      B 2023-01-02         106         2   40.0        C007\n",
      "8                9      B 2023-01-03         107         3   25.0        C008\n",
      "9               10      B 2023-01-04         108         1   30.0        C009\n",
      "10              11      B 2023-01-05         109         2   35.0        C010\n",
      "11              12      B 2023-01-06         107         3   25.0        C011\n",
      "12              13      C 2023-01-01         110         1   60.0        C012\n",
      "13              14      C 2023-01-02         111         2   20.0        C013\n",
      "14              14      C 2023-01-03         112         1   70.0        C014\n",
      "15              15      C 2023-01-04         113         2   50.0        C015\n",
      "16              16      C 2023-01-05         114         3   30.0        C016\n",
      "17              17      C 2023-01-06         115         2   80.0        C017\n",
      "\n",
      "Column datatypes:\n",
      "transaction_id             int64\n",
      "branch                    object\n",
      "date              datetime64[ns]\n",
      "product_id                 int64\n",
      "quantity                   int64\n",
      "price                    float64\n",
      "customer_id               object\n",
      "dtype: object\n"
     ]
    }
   ],
   "source": [
    "## Change the Date column to Date data\n",
    "df_specific = df_specific_cleaned.copy()\n",
    "df_specific['date'] = pd.to_datetime(df_specific['date'])\n",
    "\n",
    "# Display results\n",
    "print(df_specific)\n",
    "print(\"\\nColumn datatypes:\")\n",
    "print(df_specific.dtypes)"
   ]
  },
  {
   "cell_type": "code",
   "execution_count": 168,
   "id": "716e513d-f0c7-493e-a8d2-554202433481",
   "metadata": {},
   "outputs": [
    {
     "name": "stdout",
     "output_type": "stream",
     "text": [
      "    transaction_id branch       date  product_id  quantity  price customer_id\n",
      "0                1      A 2023-01-01         101         2   50.0        C001\n",
      "1                2      A 2023-01-02         102         1   20.0        C002\n",
      "2                3      A 2023-01-03         103         3   15.0        C003\n",
      "3                4      A 2023-01-04         101         2   50.0        C004\n",
      "6                7      B 2023-01-01         101         1   50.0        C006\n",
      "7                8      B 2023-01-02         106         2   40.0        C007\n",
      "8                9      B 2023-01-03         107         3   25.0        C008\n",
      "9               10      B 2023-01-04         108         1   30.0        C009\n",
      "10              11      B 2023-01-05         109         2   35.0        C010\n",
      "11              12      B 2023-01-06         107         3   25.0        C011\n",
      "12              13      C 2023-01-01         110         1   60.0        C012\n",
      "14              14      C 2023-01-03         112         1   70.0        C014\n",
      "15              15      C 2023-01-04         113         2   50.0        C015\n",
      "16              16      C 2023-01-05         114         3   30.0        C016\n",
      "17              17      C 2023-01-06         115         2   80.0        C017\n"
     ]
    }
   ],
   "source": [
    "## Delete duplicate  based on transaction id.\n",
    "df_sorted = df_specific.sort_values(['transaction_id', 'date'])\n",
    "\n",
    "df_clean = df_sorted.drop_duplicates(subset=['transaction_id'], keep='last')\n",
    "\n",
    "df_clean = df_clean.sort_values('transaction_id')\n",
    "print(df_clean)"
   ]
  },
  {
   "cell_type": "code",
   "execution_count": 170,
   "id": "9d1a1c82-382d-4564-a9bc-da8493faa600",
   "metadata": {},
   "outputs": [
    {
     "name": "stdout",
     "output_type": "stream",
     "text": [
      "  branch  total\n",
      "0      A  265.0\n",
      "1      B  380.0\n",
      "2      C  480.0\n"
     ]
    }
   ],
   "source": [
    "## Create totalSales dataframe based on branch\n",
    "df['total'] = df_clean['quantity'] * df_clean['price']\n",
    "\n",
    "branch_totals = df.groupby('branch')['total'].sum().reset_index()\n",
    "branch_totals.columns = ['branch', 'total']\n",
    "print(branch_totals)\n",
    "\n",
    "branch_totals.to_csv('total_sales_per_branch.csv', index=False)"
   ]
  },
  {
   "cell_type": "code",
   "execution_count": 172,
   "id": "cbfbfa6c-2d7c-497a-aa4c-39a9451aa9fe",
   "metadata": {},
   "outputs": [
    {
     "name": "stdout",
     "output_type": "stream",
     "text": [
      "  branch  total\n",
      "0      A  265.0\n",
      "1      B  380.0\n",
      "2      C  480.0\n"
     ]
    }
   ],
   "source": [
    "## Get the total sales per branch csv file\n",
    "df_sales_data = pd.read_csv('total_sales_per_branch.csv')\n",
    "\n",
    "print(df_sales_data.to_string()) "
   ]
  },
  {
   "cell_type": "code",
   "execution_count": null,
   "id": "317ae3e4-a129-4c63-9ef7-4264d21ad563",
   "metadata": {},
   "outputs": [],
   "source": []
  }
 ],
 "metadata": {
  "kernelspec": {
   "display_name": "Python [conda env:base] *",
   "language": "python",
   "name": "conda-base-py"
  },
  "language_info": {
   "codemirror_mode": {
    "name": "ipython",
    "version": 3
   },
   "file_extension": ".py",
   "mimetype": "text/x-python",
   "name": "python",
   "nbconvert_exporter": "python",
   "pygments_lexer": "ipython3",
   "version": "3.12.7"
  }
 },
 "nbformat": 4,
 "nbformat_minor": 5
}
